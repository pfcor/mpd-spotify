{
 "cells": [
  {
   "cell_type": "markdown",
   "metadata": {},
   "source": [
    "# Sample | Train | Validation Data Sets\n",
    "\n",
    "Como sabemos, temos a disposição exatamente um milhão de playlists. \n",
    "\n",
    "No entanto, tanto pelo desafio de processar essa quantidade de dados quanto pelo fato de que nosso objetivo não é o de alcançar os níveis mais altos de precisão em termos de vencer o desafio, mas sim experimentar com certa agilidade algumas estratégias de recomendação de músicas, vamos selecionar uma amostra da base para os seguintes passos do projeto.\n",
    "\n",
    "Potencialmente para o treino final podemos voltar a trabalhar com o data set completo, mas como uma série de testes serão feitos, é melhor trabalhar com menos dados por enquanto.\n",
    "\n",
    "Vamos também já separar parte das playlists para vailidação de nossas previsões.\n",
    "\n",
    "<br><br>\n",
    "<hr>\n",
    "@author: [Pedro Correia](https://github.com/pfcor)"
   ]
  },
  {
   "cell_type": "code",
   "execution_count": 1,
   "metadata": {},
   "outputs": [],
   "source": [
    "import numpy as np\n",
    "import pandas as pd\n",
    "import feather as ft\n",
    "import os"
   ]
  },
  {
   "cell_type": "code",
   "execution_count": 2,
   "metadata": {},
   "outputs": [],
   "source": [
    "RANDOM_STATE = 433\n",
    "TRAIN_SIZE = 100000\n",
    "TEST_SIZE = 1000"
   ]
  },
  {
   "cell_type": "markdown",
   "metadata": {},
   "source": [
    "Playlists"
   ]
  },
  {
   "cell_type": "code",
   "execution_count": 3,
   "metadata": {},
   "outputs": [
    {
     "name": "stdout",
     "output_type": "stream",
     "text": [
      "Wall time: 678 ms\n"
     ]
    }
   ],
   "source": [
    "%%time\n",
    "\n",
    "# loading playlists\n",
    "df_playlists = ft.read_dataframe(\"data/formatted/playlists.fthr\")"
   ]
  },
  {
   "cell_type": "code",
   "execution_count": 4,
   "metadata": {},
   "outputs": [],
   "source": [
    "# making only playlists with at least 25 songs available to be selected\n",
    "df_playlists = df_playlists[df_playlists[\"num_tracks\"] >= 25].copy()"
   ]
  },
  {
   "cell_type": "code",
   "execution_count": 5,
   "metadata": {},
   "outputs": [],
   "source": [
    "# shuffling playlists\n",
    "df_playlists = df_playlists.sample(frac=1, random_state=RANDOM_STATE)"
   ]
  },
  {
   "cell_type": "code",
   "execution_count": 6,
   "metadata": {
    "scrolled": true
   },
   "outputs": [],
   "source": [
    "# selecting observations\n",
    "df_playlists_train  = df_playlists.iloc[:TRAIN_SIZE].reset_index(drop=True) # 100k playlists for training\n",
    "df_playlists_test   = df_playlists.iloc[TRAIN_SIZE:TRAIN_SIZE+TEST_SIZE].reset_index(drop=True) # 1k playlists of validation"
   ]
  },
  {
   "cell_type": "code",
   "execution_count": 7,
   "metadata": {},
   "outputs": [],
   "source": [
    "# saving sample to disk\n",
    "df_playlists_train.to_feather(\"data/train-test/playlists_train.fthr\")\n",
    "df_playlists_test.to_feather(\"data/train-test/playlists_test.fthr\")"
   ]
  },
  {
   "cell_type": "code",
   "execution_count": 8,
   "metadata": {},
   "outputs": [],
   "source": [
    "# cleaning namespace\n",
    "pids_train = df_playlists_train[\"pid\"].values\n",
    "pids_test =  df_playlists_test[\"pid\"].values\n",
    "\n",
    "del df_playlists\n",
    "del df_playlists_train\n",
    "del df_playlists_test"
   ]
  },
  {
   "cell_type": "markdown",
   "metadata": {},
   "source": [
    "Playlists - Tracks"
   ]
  },
  {
   "cell_type": "code",
   "execution_count": null,
   "metadata": {},
   "outputs": [],
   "source": [
    "%%time\n",
    "\n",
    "# loading playlist_tracks\n",
    "df_playlist_tracks = ft.read_dataframe(\"data/formatted/playlist_track.fthr\")"
   ]
  },
  {
   "cell_type": "code",
   "execution_count": 10,
   "metadata": {},
   "outputs": [],
   "source": [
    "# filtering by the selected playlists\n",
    "df_playlist_tracks_train = df_playlist_tracks[df_playlist_tracks[\"pid\"].isin(pids_train)].reset_index(drop=True)\n",
    "df_playlist_tracks_test  = df_playlist_tracks[df_playlist_tracks[\"pid\"].isin(pids_test)].reset_index(drop=True)"
   ]
  },
  {
   "cell_type": "code",
   "execution_count": 11,
   "metadata": {},
   "outputs": [],
   "source": [
    "# saving sample to disk\n",
    "df_playlist_tracks_train.to_feather(\"data/train-test/playlist_track_train.fthr\")\n",
    "df_playlist_tracks_test.to_feather(\"data/train-test/playlist_track_test.fthr\")"
   ]
  },
  {
   "cell_type": "code",
   "execution_count": 12,
   "metadata": {},
   "outputs": [],
   "source": [
    "# cleaning namespace\n",
    "\n",
    "aids_train = df_playlist_tracks_train[\"aid\"].unique()\n",
    "aids_test = df_playlist_tracks_test[\"aid\"].unique()\n",
    "\n",
    "tids_train = df_playlist_tracks_train[\"tid\"].unique()\n",
    "tids_test = df_playlist_tracks_test[\"tid\"].unique()\n",
    "\n",
    "del df_playlist_tracks\n",
    "del df_playlist_tracks_train\n",
    "del df_playlist_tracks_test"
   ]
  },
  {
   "cell_type": "markdown",
   "metadata": {},
   "source": [
    "Artists & Tracks"
   ]
  },
  {
   "cell_type": "code",
   "execution_count": 3,
   "metadata": {},
   "outputs": [
    {
     "name": "stdout",
     "output_type": "stream",
     "text": [
      "Wall time: 9.41 s\n"
     ]
    }
   ],
   "source": [
    "%%time\n",
    "\n",
    "df_artists = ft.read_dataframe(\"data/formatted/artists.fthr\")\n",
    "df_tracks = ft.read_dataframe(\"data/formatted/tracks.fthr\")"
   ]
  },
  {
   "cell_type": "code",
   "execution_count": 14,
   "metadata": {},
   "outputs": [],
   "source": [
    "# selecting only artists and tracks that appear in the selected playlists\n",
    "\n",
    "df_artists_train = df_artists[df_artists[\"aid\"].isin(aids_train)].reset_index(drop=True)\n",
    "df_artists_test = df_artists[df_artists[\"aid\"].isin(aids_test)].reset_index(drop=True)\n",
    "\n",
    "df_tracks_train = df_tracks[df_tracks[\"tid\"].isin(tids_train)].reset_index(drop=True)\n",
    "df_tracks_test = df_tracks[df_tracks[\"tid\"].isin(tids_test)].reset_index(drop=True)"
   ]
  },
  {
   "cell_type": "code",
   "execution_count": 15,
   "metadata": {},
   "outputs": [],
   "source": [
    "# saving sample to disk\n",
    "\n",
    "df_artists_train.to_feather(\"data/train-test/artists_train.fthr\")\n",
    "df_artists_test.to_feather(\"data/train-test/artists_test.fthr\")\n",
    "\n",
    "df_tracks_train.to_feather(\"data/train-test/tracks_train.fthr\")\n",
    "df_tracks_test.to_feather(\"data/train-test/tracks_test.fthr\")"
   ]
  },
  {
   "cell_type": "code",
   "execution_count": 16,
   "metadata": {},
   "outputs": [],
   "source": [
    "del df_artists\n",
    "del df_artists_train\n",
    "del df_artists_test\n",
    "\n",
    "del df_tracks\n",
    "del df_tracks_train\n",
    "del df_tracks_test"
   ]
  },
  {
   "cell_type": "markdown",
   "metadata": {},
   "source": [
    "<hr>"
   ]
  }
 ],
 "metadata": {
  "kernelspec": {
   "display_name": "Python [spotify]",
   "language": "python",
   "name": "spotify"
  },
  "language_info": {
   "codemirror_mode": {
    "name": "ipython",
    "version": 3
   },
   "file_extension": ".py",
   "mimetype": "text/x-python",
   "name": "python",
   "nbconvert_exporter": "python",
   "pygments_lexer": "ipython3",
   "version": "3.6.6"
  }
 },
 "nbformat": 4,
 "nbformat_minor": 2
}
