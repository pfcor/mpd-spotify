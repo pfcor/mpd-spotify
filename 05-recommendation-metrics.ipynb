{
 "cells": [
  {
   "cell_type": "markdown",
   "metadata": {},
   "source": [
    "# Recommender Evaluation Framework\n",
    "\n",
    "Aqui, vamos definir as métricas que vamos utilizar para medir a qualidade das recomendações que vamos fazer."
   ]
  },
  {
   "cell_type": "markdown",
   "metadata": {},
   "source": [
    "Para isso, vamos realizar uma recomendação teste:"
   ]
  },
  {
   "cell_type": "code",
   "execution_count": 1,
   "metadata": {},
   "outputs": [],
   "source": [
    "import numpy as np\n",
    "import pandas as pd\n",
    "import feather as ft\n",
    "import os\n",
    "import mpd"
   ]
  },
  {
   "cell_type": "markdown",
   "metadata": {},
   "source": [
    "Selecionando uma playlist exemplo para testar as métricas:"
   ]
  },
  {
   "cell_type": "code",
   "execution_count": 2,
   "metadata": {},
   "outputs": [],
   "source": [
    "PLAYLISTS_FILE = \"data/train-test/playlists_train.fthr\"\n",
    "RANDOM_STATE = 433"
   ]
  },
  {
   "cell_type": "code",
   "execution_count": 3,
   "metadata": {},
   "outputs": [],
   "source": [
    "df_playlists = ft.read_dataframe(PLAYLISTS_FILE)\n",
    "example_playlist = df_playlists.sample(1, random_state=RANDOM_STATE)\n",
    "del df_playlists"
   ]
  },
  {
   "cell_type": "code",
   "execution_count": 4,
   "metadata": {},
   "outputs": [
    {
     "data": {
      "text/html": [
       "<div>\n",
       "<style scoped>\n",
       "    .dataframe tbody tr th:only-of-type {\n",
       "        vertical-align: middle;\n",
       "    }\n",
       "\n",
       "    .dataframe tbody tr th {\n",
       "        vertical-align: top;\n",
       "    }\n",
       "\n",
       "    .dataframe thead th {\n",
       "        text-align: right;\n",
       "    }\n",
       "</style>\n",
       "<table border=\"1\" class=\"dataframe\">\n",
       "  <thead>\n",
       "    <tr style=\"text-align: right;\">\n",
       "      <th></th>\n",
       "      <th>pid</th>\n",
       "      <th>name</th>\n",
       "      <th>collaborative</th>\n",
       "      <th>modified_at</th>\n",
       "      <th>duration_ms</th>\n",
       "      <th>num_tracks</th>\n",
       "      <th>num_albums</th>\n",
       "      <th>num_artists</th>\n",
       "      <th>num_followers</th>\n",
       "      <th>num_edits</th>\n",
       "    </tr>\n",
       "  </thead>\n",
       "  <tbody>\n",
       "    <tr>\n",
       "      <th>8009</th>\n",
       "      <td>766126</td>\n",
       "      <td>Party</td>\n",
       "      <td>0</td>\n",
       "      <td>1504310400</td>\n",
       "      <td>62857995</td>\n",
       "      <td>234</td>\n",
       "      <td>199</td>\n",
       "      <td>135</td>\n",
       "      <td>1</td>\n",
       "      <td>25</td>\n",
       "    </tr>\n",
       "  </tbody>\n",
       "</table>\n",
       "</div>"
      ],
      "text/plain": [
       "         pid   name  collaborative  modified_at  duration_ms  num_tracks  \\\n",
       "8009  766126  Party              0   1504310400     62857995         234   \n",
       "\n",
       "      num_albums  num_artists  num_followers  num_edits  \n",
       "8009         199          135              1         25  "
      ]
     },
     "execution_count": 4,
     "metadata": {},
     "output_type": "execute_result"
    }
   ],
   "source": [
    "example_playlist"
   ]
  },
  {
   "cell_type": "code",
   "execution_count": 5,
   "metadata": {
    "scrolled": false
   },
   "outputs": [
    {
     "name": "stdout",
     "output_type": "stream",
     "text": [
      "=== 766126 ===\n",
      "Party\n",
      "  followers      1    \n",
      "  modified       2017-09-01\n",
      "  edits          25   \n",
      "  collaborative  false\n",
      "  num_artists    135  \n",
      "  num_tracks     234  \n",
      "  duration min   1047.63\n",
      "\n",
      "  # | track                          | album                                    | artist              \n",
      "----------------------------------------------------------------------------------------------------\n",
      "  0 | Radar Love                     | Moontan                                  | Golden Earring      \n",
      "  1 | Sex on Fire                    | Only By The Night                        | Kings of Leon       \n",
      "  2 | Black Hole Sun                 | Superunknown                             | Soundgarden         \n",
      "  3 | The Middle                     | Bleed American                           | Jimmy Eat World     \n",
      "  4 | It's Been Awhile - Explicit L  | Break The Cycle                          | Staind              \n",
      "  5 | Keep On Swinging               | Head Down                                | Rival Sons          \n",
      "  6 | Elephant                       | Lonerism                                 | Tame Impala         \n",
      "  7 | Working Man                    | Rush                                     | Rush                \n",
      "  8 | 20th Century Boy               | 20th Century Boy                         | T. Rex              \n",
      "  9 | Color                          | When Night Becomes Day                   | Finish Ticket       \n",
      " 10 | How You Like Me Now            | The House That Dirt Built                | The Heavy           \n",
      " 11 | Everlong                       | The Colour And The Shape                 | Foo Fighters        \n",
      " 12 | Smells Like Teen Spirit        | Nevermind                                | Nirvana             \n",
      " 13 | Ramblin' Man                   | Brothers And Sisters                     | The Allman Brothers Band\n",
      " 14 | Through Glass                  | Come What(ever) May                      | Stone Sour          \n",
      " 15 | Perfect Strangers              | Perfect Strangers                        | Deep Purple         \n",
      " 16 | Californication                | Californication                          | Red Hot Chili Peppers\n",
      " 17 | Since You Been Gone            | Down To Earth                            | Rainbow             \n",
      " 18 | Kryptonite                     | The Better Life                          | 3 Doors Down        \n",
      " 19 | Under The Bridge               | Blood Sugar Sex Magik                    | Red Hot Chili Peppers\n",
      " 20 | Rumble And Sway                | Rumble And Sway EP                       | Jamie N Commons     \n",
      " 21 | Lines                          | Dead Letter Circus                       | Dead Letter Circus  \n",
      " 22 | There's A Life                 | The Greatest Hits                        | 3 Doors Down        \n",
      " 23 | The Road I'm On                | Away From The Sun                        | 3 Doors Down        \n",
      " 24 | In Plain Sight                 | Aesthesis                                | Dead Letter Circus  \n",
      " 25 | Alive                          | Ten                                      | Pearl Jam           \n",
      " 26 | (Don't Fear) The Reaper        | Agents Of Fortune                        | Blue Öyster Cult    \n",
      " 27 | 25 or 6 to 4                   | The Nashville Sessions                   | Chicago             \n",
      " 28 | All Right Now                  | Fire And Water                           | Free                \n",
      " 29 | Break On Through (To The Othe  | The Doors                                | The Doors           \n",
      " 30 | Freewill                       | Permanent Waves                          | Rush                \n",
      " 31 | The Spirit Of Radio            | Permanent Waves                          | Rush                \n",
      " 32 | Learn to Fly                   | There Is Nothing Left To Lose            | Foo Fighters        \n",
      " 33 | The Miracle (Of Joey Ramone)   | Songs Of Innocence                       | U2                  \n",
      " 34 | Where The Streets Have No Nam  | The Joshua Tree                          | U2                  \n",
      " 35 | New Year's Day                 | The Best Of 1980 - 1990                  | U2                  \n",
      " 36 | Mysterious Ways                | Achtung Baby                             | U2                  \n",
      " 37 | Mary Jane's Last Dance         | Greatest Hits                            | Tom Petty and the Heartbreakers\n",
      " 38 | Patience                       | G N' R Lies                              | Guns N' Roses       \n",
      " 39 | Plush                          | Core                                     | Stone Temple Pilots \n",
      " 40 | Baby Did A Bad Bad Thing       | Forever Blue                             | Chris Isaak         \n",
      " 41 | Drift Away                     | No Stranger To Shame                     | Uncle Kracker       \n",
      " 42 | The House Is Rockin'           | In Step                                  | Stevie Ray Vaughan  \n",
      " 43 | The Boys Are Back In Town      | Jailbreak                                | Thin Lizzy          \n",
      " 44 | L.A. Woman                     | L.A. Woman                               | The Doors           \n",
      " 45 | Riders On The Storm            | L.A. Woman                               | The Doors           \n",
      " 46 | The Chain - Remastered         | Rumours                                  | Fleetwood Mac       \n",
      " 47 | Gold Dust Woman - 2004 Remast  | Rumours                                  | Fleetwood Mac       \n",
      " 48 | Big Shot                       | 52nd Street                              | Billy Joel          \n",
      " 49 | Hold On Loosely                | Wild-Eyed Southern Boys                  | 38 Special          \n",
      " 50 | Life Is A Highway              | Mad Mad World                            | Tom Cochrane        \n",
      " 51 | La Grange - 2005 Remastered V  | Tres Hombres [Expanded & Remastered]     | ZZ Top              \n",
      " 52 | All Along the Watchtower       | Electric Ladyland                        | Jimi Hendrix        \n",
      " 53 | Runnin' Down A Dream           | Full Moon Fever                          | Tom Petty           \n",
      " 54 | Kids Wanna Rock                | Reckless                                 | Bryan Adams         \n",
      " 55 | Me In Honey                    | Out Of Time                              | R.E.M.              \n",
      " 56 | Losing My Religion             | Out Of Time                              | R.E.M.              \n",
      " 57 | Frankenstein                   | They Only Come Out At Night              | The Edgar Winter Group\n",
      " 58 | Calling Elvis                  | On Every Street                          | Dire Straits        \n",
      " 59 | Money For Nothing              | Brothers In Arms                         | Dire Straits        \n",
      " 60 | Sultans Of Swing               | Dire Straits                             | Dire Straits        \n",
      " 61 | Walk Of Life                   | Brothers In Arms                         | Dire Straits        \n",
      " 62 | Hard Sun                       | Into The Wild                            | Eddie Vedder        \n",
      " 63 | Come Sail Away                 | The Grand Illusion                       | Styx                \n",
      " 64 | Head Games                     | Head Games                               | Foreigner           \n",
      " 65 | Seagull - Remastered Version   | Bad Company                              | Bad Company         \n",
      " 66 | Born to Run                    | Born To Run                              | Bruce Springsteen   \n",
      " 67 | Run To You                     | Reckless                                 | Bryan Adams         \n",
      " 68 | Summer Of '69                  | Reckless                                 | Bryan Adams         \n",
      " 69 | Here Comes The Sun - Remaster  | Abbey Road                               | The Beatles         \n",
      " 70 | Going To California            | Led Zeppelin IV                          | Led Zeppelin        \n",
      " 71 | Stairway To Heaven             | Led Zeppelin IV                          | Led Zeppelin        \n",
      " 72 | Street Fighting Man            | Beggars Banquet                          | The Rolling Stones  \n",
      " 73 | Gimme Shelter                  | Let It Bleed                             | The Rolling Stones  \n",
      " 74 | (I Can't Get No) Satisfaction  | Out Of Our Heads                         | The Rolling Stones  \n",
      " 75 | Sympathy For The Devil         | Beggars Banquet                          | The Rolling Stones  \n",
      " 76 | Brown Sugar - Remastered       | Sticky Fingers                           | The Rolling Stones  \n",
      " 77 | Paint It Black                 | Aftermath                                | The Rolling Stones  \n",
      " 78 | On My Way                      | Brother Bear                             | Phil Collins        \n",
      " 79 | Gallows Pole                   | Led Zeppelin III                         | Led Zeppelin        \n",
      " 80 | Margaritaville                 | Changes In Latitudes, Changes In Attitu  | Jimmy Buffett       \n",
      " 81 | Cheeseburger In Paradise       | Son Of A Son Of A Sailor                 | Jimmy Buffett       \n",
      " 82 | Wanted Dead Or Alive           | Slippery When Wet                        | Bon Jovi            \n",
      " 83 | Refugee                        | Damn The Torpedoes                       | Tom Petty and the Heartbreakers\n",
      " 84 | Crazy Little Thing Called Lov  | The Game                                 | Queen               \n",
      " 85 | Bad Company - 2015 Remastered  | Bad Company                              | Bad Company         \n",
      " 86 | Sweet Child O' Mine            | Appetite For Destruction                 | Guns N' Roses       \n",
      " 87 | More Than a Feeling            | Boston                                   | Boston              \n",
      " 88 | Born In The U.S.A.             | Born In The U.S.A.                       | Bruce Springsteen   \n",
      " 89 | Jump - 2015 Remastered Versio  | 1984                                     | Van Halen           \n",
      " 90 | Juke Box Hero                  | 4 [Expanded]                             | Foreigner           \n",
      " 91 | Dust in the Wind               | Point Of Know Return                     | Kansas              \n",
      " 92 | Every Rose Has Its Thorn - 20  | Open Up And Say...Ahh! - 20th Anniversa  | Poison              \n",
      " 93 | I Don't Want to Miss a Thing   | I Don't Want To Miss A Thing             | Aerosmith           \n",
      " 94 | Black Water                    | What Were Once Vices Are Now Habits      | The Doobie Brothers \n",
      " 95 | Escape (The Pina Colada Song)  | Partners In Crime                        | Rupert Holmes       \n",
      " 96 | Gimme Three Steps              | Pronounced' Leh-'Nerd 'Skin-'Nerd        | Lynyrd Skynyrd      \n",
      " 97 | Sweet Home Alabama             | Second Helping                           | Lynyrd Skynyrd      \n",
      " 98 | Slow Ride                      | Fool For The City                        | Foghat              \n",
      " 99 | My Kinda Lover - 2010 Digital  | Don't Say No                             | Billy Squier        \n",
      "100 | Lonely Is The Night - 2010 -   | Don't Say No                             | Billy Squier        \n",
      "101 | Solsbury Hill - 2002 Remaster  | R-Kive                                   | Peter Gabriel       \n",
      "102 | Sledgehammer - Live            | ¡Released! The Human Rights Concerts -   | Peter Gabriel       \n",
      "103 | Waiting For The Sun            | Morrison Hotel                           | The Doors           \n",
      "104 | Take It Easy                   | Eagles (Remastered)                      | Eagles              \n",
      "105 | Hotel California - Remastered  | Hotel California (Remastered)            | Eagles              \n",
      "106 | Life In The Fast Lane - Remas  | Hotel California (Remastered)            | Eagles              \n",
      "107 | Sunshine Of Your Love          | Disraeli Gears                           | Cream               \n",
      "108 | Hush                           | When We Rock, We Rock & When We Roll, W  | Deep Purple         \n",
      "109 | Feel Like Makin' Love - 2015   | Straight Shooter                         | Bad Company         \n",
      "110 | Paper In Fire                  | The Lonesome Jubilee                     | John Mellencamp     \n",
      "111 | Hurts So Good                  | American Fool                            | John Mellencamp     \n",
      "112 | Rain On The Scarecrow          | Scarecrow                                | John Mellencamp     \n",
      "113 | Hungry Like The Wolf - 2009 R  | Rio [Collector's Edition]                | Duran Duran         \n",
      "114 | Touch Of Grey                  | In The Dark                              | Grateful Dead       \n",
      "115 | The Boy In the Bubble          | Graceland (25th Anniversary Deluxe Edit  | Paul Simon          \n",
      "116 | Graceland                      | Graceland (25th Anniversary Deluxe Edit  | Paul Simon          \n",
      "117 | House Of The Rising Sun        | The Animals                              | The Animals         \n",
      "118 | Happy Together                 | Happy Together                           | The Turtles         \n",
      "119 | Ramble On                      | Led Zeppelin II                          | Led Zeppelin        \n",
      "120 | Tom Sawyer                     | Moving Pictures                          | Rush                \n",
      "121 | Carry on Wayward Son           | Leftoverture                             | Kansas              \n",
      "122 | White Room                     | Wheels Of Fire                           | Cream               \n",
      "123 | Mrs. Robinson                  | Bookends                                 | Simon & Garfunkel   \n",
      "124 | Brown Eyed Girl                | Blowin' Your Mind!                       | Van Morrison        \n",
      "125 | Go Your Own Way - 2004 Remast  | Rumours                                  | Fleetwood Mac       \n",
      "126 | Fortunate Son                  | Willy And The Poor Boys                  | Creedence Clearwater Revival\n",
      "127 | Money                          | The Dark Side of the Moon                | Pink Floyd          \n",
      "128 | Have You Ever Seen The Rain?   | Pendulum                                 | Creedence Clearwater Revival\n",
      "129 | Wish You Were Here             | Wish You Were Here                       | Pink Floyd          \n",
      "130 | The Joker                      | The Joker                                | Steve Miller Band   \n",
      "131 | Sharp Dressed Man - 2008 Rema  | Eliminator                               | ZZ Top              \n",
      "132 | Life's Been Good               | But Seriously, Folks...                  | Joe Walsh           \n",
      "133 | Down On The Corner             | Willy And The Poor Boys                  | Creedence Clearwater Revival\n",
      "134 | Long Cool Woman (In A Black D  | Distant Light                            | The Hollies         \n",
      "135 | Knockin' On Heaven's Door - R  | Pat Garrett & Billy The Kid (Soundtrack  | Bob Dylan           \n",
      "136 | Walk This Way                  | Toys In The Attic                        | Aerosmith           \n",
      "137 | Another One Bites The Dust -   | The Game                                 | Queen               \n",
      "138 | Mississippi Queen              | Climbing!                                | Mountain            \n",
      "139 | Take The Money And Run         | Fly Like An Eagle                        | Steve Miller Band   \n",
      "140 | Can't You See                  | The Marshall Tucker Band                 | The Marshall Tucker Band\n",
      "141 | Barracuda                      | Little Queen                             | Heart               \n",
      "142 | Crazy On You                   | Dreamboat Annie                          | Heart               \n",
      "143 | Free Fallin'                   | Full Moon Fever                          | Tom Petty           \n",
      "144 | All Day and All of the Night   | Kinks                                    | The Kinks           \n",
      "145 | Jack & Diane                   | American Fool                            | John Mellencamp     \n",
      "146 | Fly Like An Eagle              | Fly Like An Eagle                        | Steve Miller Band   \n",
      "147 | I Won't Back Down              | Full Moon Fever                          | Tom Petty           \n",
      "148 | Spirit In The Sky              | Spirit In The Sky                        | Norman Greenbaum    \n",
      "149 | The Road I'm On                | Away From The Sun                        | 3 Doors Down        \n",
      "150 | Because the Night              | Easter                                   | Patti Smith         \n",
      "151 | The Boys Of Summer             | Building The Perfect Beast               | Don Henley          \n",
      "152 | Even Flow                      | Ten                                      | Pearl Jam           \n",
      "153 | Superstition - Single Version  | Song Review: A Greatest Hits Collection  | Stevie Wonder       \n",
      "154 | Soul Kitchen                   | The Doors                                | The Doors           \n",
      "155 | The General                    | Bang Bang                                | Dispatch            \n",
      "156 | Bad Moon Rising                | Green River                              | Creedence Clearwater Revival\n",
      "157 | The End                        | The Doors                                | The Doors           \n",
      "158 | Surf Rider                     | Surf Rider                               | The Lively Ones     \n",
      "159 | Mighty Wings - From \"Top Gun\"  | The Epic Archive, Vol. 3 (1984-1992)     | Cheap Trick         \n",
      "160 | Fire On High                   | Face the Music                           | Electric Light Orchestra\n",
      "161 | I'd Do Anything For Love (But  | Bat Out Of Hell II: Back Into Hell...    | Meat Loaf           \n",
      "162 | Layla - 40th Anniversary Vers  | Layla And Other Assorted Love Songs      | Derek & The Dominos \n",
      "163 | I'd Love To Change The World   | The Anthology (1967-1971)                | Ten Years After     \n",
      "164 | Heart Full of Soul             | The Yardbirds Story - Pt. 3 - 1965/66 -  | The Yardbirds       \n",
      "165 | Rebel Rebel - 2016 Remastered  | Diamond Dogs                             | David Bowie         \n",
      "166 | Do It Again                    | Can't Buy A Thrill                       | Steely Dan          \n",
      "167 | Can't Find My Way Home         | Blind Faith                              | Blind Faith         \n",
      "168 | Jessica - Unedited Version     | Brothers And Sisters                     | The Allman Brothers Band\n",
      "169 | Maggie May                     | Every Picture Tells A Story              | Rod Stewart         \n",
      "170 | Hurricane                      | Secondhand Rapture                       | MS MR               \n",
      "171 | Bones                          | Secondhand Rapture                       | MS MR               \n",
      "172 | Run Boy Run                    | The Golden Age                           | Woodkid             \n",
      "173 | Karn Evil 9 1st Impression, P  | Brain Salad Surgery                      | Emerson, Lake & Palmer\n",
      "174 | Rock You Like A Hurricane      | Love At First Sting                      | Scorpions           \n",
      "175 | Born To Be Wild                | Steppenwolf                              | Steppenwolf         \n",
      "176 | Paradise City                  | Appetite For Destruction                 | Guns N' Roses       \n",
      "177 | Welcome To The Jungle          | Appetite For Destruction                 | Guns N' Roses       \n",
      "178 | Pinball Wizard                 | Tommy                                    | The Who             \n",
      "179 | Start Me Up - Remastered       | Tattoo You                               | The Rolling Stones  \n",
      "180 | Rock And Roll All Nite         | Dressed To Kill                          | KISS                \n",
      "181 | Rocket Man (I Think It's Goin  | Honky Chateau                            | Elton John          \n",
      "182 | Stuck In The Middle With You   | Stealers Wheel                           | Stealers Wheel      \n",
      "183 | Enter Sandman                  | Metallica                                | Metallica           \n",
      "184 | Tiny Dancer                    | Madman Across The Water                  | Elton John          \n",
      "185 | Piano Man                      | Piano Man                                | Billy Joel          \n",
      "186 | Somebody To Love - Remastered  | A Day At The Races                       | Queen               \n",
      "187 | Twist And Shout - Remastered   | Please Please Me                         | The Beatles         \n",
      "188 | Don't You (Forget About Me)    | Once Upon A Time                         | Simple Minds        \n",
      "189 | Give A Little Bit              | Even In The Quietest Moments             | Supertramp          \n",
      "190 | The Logical Song - Remastered  | Breakfast In America                     | Supertramp          \n",
      "191 | Dancing In The Dark            | Born In The U.S.A.                       | Bruce Springsteen   \n",
      "192 | Breakfast In America - 2010 R  | Breakfast In America                     | Supertramp          \n",
      "193 | Every Little Thing She Does I  | Ghost In The Machine                     | The Police          \n",
      "194 | Invisible Touch - 2007 Digita  | Invisible Touch                          | Genesis             \n",
      "195 | Take The Long Way Home - 2010  | Breakfast In America                     | Supertramp          \n",
      "196 | Land Of Confusion - 2007 Digi  | Invisible Touch                          | Genesis             \n",
      "197 | Call Me                        | Atomic/Atomix                            | Blondie             \n",
      "198 | I Ran                          | Grand Theft Auto Vice City OST (Greates  | A Flock Of Seagulls \n",
      "199 | Sunday Bloody Sunday - Remast  | War                                      | U2                  \n",
      "200 | Wind Of Change                 | Crazy World                              | Scorpions           \n",
      "201 | Personal Jesus                 | Violator                                 | Depeche Mode        \n",
      "202 | Mony Mony                      | Vital Idol                               | Billy Idol          \n",
      "203 | Runaway                        | Bon Jovi                                 | Bon Jovi            \n",
      "204 | Fins                           | Volcano                                  | Jimmy Buffett       \n",
      "205 | That's What Living Is To Me    | Hot Water                                | Jimmy Buffett       \n",
      "206 | Here I Go Again 87 - 2017 Rem  | Whitesnake (30th Anniversary Remaster)   | Whitesnake          \n",
      "207 | One Night In Bangkok - From “  | One Night In Bangkok                     | Murray Head         \n",
      "208 | What Is Love                   | The Album                                | Haddaway            \n",
      "209 | White Wedding - Pt. 1          | Billy Idol                               | Billy Idol          \n",
      "210 | Rebel Yell                     | Rebel Yell                               | Billy Idol          \n",
      "211 | White Wedding - Pt. 1          | Billy Idol                               | Billy Idol          \n",
      "212 | Cradle of Love                 | Charmed Life                             | Billy Idol          \n",
      "213 | Bad Case Of Loving You (Docto  | Secrets                                  | Robert Palmer       \n",
      "214 | Jailbreak                      | Jailbreak                                | Thin Lizzy          \n",
      "215 | Shout                          | Songs From The Big Chair                 | Tears For Fears     \n",
      "216 | Dirty Laundry                  | I Can't Stand Still                      | Don Henley          \n",
      "217 | Sunset Grill                   | Building The Perfect Beast               | Don Henley          \n",
      "218 | Everybody Wants To Rule The W  | Songs From The Big Chair                 | Tears For Fears     \n",
      "219 | Man On The Moon                | Automatic For The People                 | R.E.M.              \n",
      "220 | Africa                         | Toto IV                                  | Toto                \n",
      "221 | Who'll Stop The Rain           | Cosmo's Factory                          | Creedence Clearwater Revival\n",
      "222 | One Bourbon, One Scotch, One   | George Thorogood & The Destroyers        | George Thorogood & The Destroyers\n",
      "223 | With A Little Help From My Fr  | With A Little Help From My Friends       | Joe Cocker          \n",
      "224 | (Don't Fear) The Reaper - Sin  | Raised On Rock                           | Blue Öyster Cult    \n",
      "225 | I Heard It Through The Grapev  | I Heard It Through The Grapevine / In T  | Marvin Gaye         \n",
      "226 | Wild Thing                     | Hit Single Anthology                     | The Troggs          \n",
      "227 | I'm Into Something Good        | HERMAN'S HERMITS THEIR GREATEST HITS     | Herman's Hermits    \n",
      "228 | In The Air Tonight - 2015 Rem  | Face Value (Deluxe Editon)               | Phil Collins        \n",
      "229 | The Man                        | Wonderful Wonderful                      | The Killers         \n",
      "230 | In My World                    | Lindsey Buckingham Christine McVie       | Lindsey Buckingham  \n",
      "231 | Nothing Else Matters           | Metallica                                | Metallica           \n",
      "232 | A Woman In Love (It's Not Me)  | Hard Promises                            | Tom Petty and the Heartbreakers\n",
      "233 | I Need To Know                 | Greatest Hits                            | Tom Petty and the Heartbreakers\n",
      "\n"
     ]
    }
   ],
   "source": [
    "example_pid = example_playlist[\"pid\"].values[0]\n",
    "mpd.show_playlist(example_pid)"
   ]
  },
  {
   "cell_type": "code",
   "execution_count": 6,
   "metadata": {},
   "outputs": [],
   "source": [
    "df_pt = ft.read_dataframe('data/train-test/playlist_track_train.fthr')\n",
    "df_example_playlist = df_pt[df_pt[\"pid\"]==example_pid].copy()"
   ]
  },
  {
   "cell_type": "code",
   "execution_count": 7,
   "metadata": {},
   "outputs": [],
   "source": [
    "TEST_FRAC = 0.2"
   ]
  },
  {
   "cell_type": "code",
   "execution_count": 8,
   "metadata": {},
   "outputs": [],
   "source": [
    "test_idx = int(df_example_playlist.shape[0]*(1-TEST_FRAC))\n",
    "df_example_playlist_base = df_example_playlist.iloc[:test_idx]\n",
    "df_example_playlist_ho   = df_example_playlist.iloc[test_idx:]"
   ]
  },
  {
   "cell_type": "markdown",
   "metadata": {},
   "source": [
    "Agora temos uma playlist de exemplo separada em base (80%) e hold-out (20%), que poderemos usar para testar algumas recomendações. Para isso, vamos gerar uma previsão com algumas faixas relevates e outras aleatórias retiradas das outras playlists a que temos acesso."
   ]
  },
  {
   "cell_type": "code",
   "execution_count": 9,
   "metadata": {},
   "outputs": [],
   "source": [
    "# 20 relevant tracks\n",
    "relevant_tracks = df_example_playlist_ho[\"tid\"].sample(20).values"
   ]
  },
  {
   "cell_type": "code",
   "execution_count": 10,
   "metadata": {},
   "outputs": [],
   "source": [
    "# 480 random selections\n",
    "random_tracks = df_pt[\"tid\"].drop_duplicates().sample(480).values"
   ]
  },
  {
   "cell_type": "code",
   "execution_count": 11,
   "metadata": {},
   "outputs": [],
   "source": [
    "recomendations = np.concatenate((relevant_tracks, random_tracks))\n",
    "np.random.shuffle(recomendations)"
   ]
  },
  {
   "cell_type": "markdown",
   "metadata": {},
   "source": [
    "## 1 - R-precision\n",
    "\n",
    "O número de faixas relevantes obtidas dividido pelo numero de faixas relevantes conhecidas (número das faixas para teste)"
   ]
  },
  {
   "cell_type": "code",
   "execution_count": 12,
   "metadata": {},
   "outputs": [],
   "source": [
    "def r_precision(ho_tracks, recommendations):\n",
    "    \n",
    "    relevant_predicitons = len(set(ho_tracks).intersection(set(recommendations)))\n",
    "    \n",
    "    return relevant_predicitons / len(ho_tracks)"
   ]
  },
  {
   "cell_type": "code",
   "execution_count": 13,
   "metadata": {},
   "outputs": [
    {
     "data": {
      "text/plain": [
       "0.425531914893617"
      ]
     },
     "execution_count": 13,
     "metadata": {},
     "output_type": "execute_result"
    }
   ],
   "source": [
    "r_precision(df_example_playlist_ho[\"tid\"], recomendations)"
   ]
  },
  {
   "cell_type": "markdown",
   "metadata": {},
   "source": [
    "## 2 - NDCG\n",
    "*Normalized Discounted Cumulative Gain*\n",
    "\n",
    "Para medir a qualidade do ranking das recomendações realizado pelo sistema."
   ]
  },
  {
   "cell_type": "code",
   "execution_count": 14,
   "metadata": {},
   "outputs": [],
   "source": [
    "def dcg(r):\n",
    "\n",
    "    r = np.asfarray(r)\n",
    "    \n",
    "    if r.size:\n",
    "        return r[0] + np.sum(r[1:] / np.log2(np.arange(2, r.size + 1)))  \n",
    "    \n",
    "    return 0.\n",
    "\n",
    "\n",
    "def ndcg(r):\n",
    "   \n",
    "    #ideal dcg\n",
    "    idcg = dcg(sorted(r, reverse=True))\n",
    "    \n",
    "    if not idcg:\n",
    "        return 0.\n",
    "    \n",
    "    return dcg(r) / idcg\n",
    "\n",
    "def ncdg_playlist(ho_tracks, recommendations):\n",
    "    \n",
    "    return ndcg(np.in1d(recomendations, ho_tracks))"
   ]
  },
  {
   "cell_type": "code",
   "execution_count": 15,
   "metadata": {},
   "outputs": [
    {
     "data": {
      "text/plain": [
       "0.42273973213326255"
      ]
     },
     "execution_count": 15,
     "metadata": {},
     "output_type": "execute_result"
    }
   ],
   "source": [
    "ncdg_playlist(df_example_playlist_ho[\"tid\"], recomendations)"
   ]
  },
  {
   "cell_type": "markdown",
   "metadata": {},
   "source": [
    "## 3 - Recommended Songs Clicks\n",
    "\n",
    "Métrica que também leva em consideração a ordem das recomendações, mas entra no detalhe da implementação do Spotify, que apresenta 10 faixas, que podem ser atualizadas pelo usuário. Essa métrica indica o número de páginas necessárias até que se encontre uma faixa relevante."
   ]
  },
  {
   "cell_type": "code",
   "execution_count": 16,
   "metadata": {},
   "outputs": [],
   "source": [
    "def rsc(r):\n",
    "    \n",
    "    for i in range(0, len(r), 10):\n",
    "        if sum(r[i:i + 10]):\n",
    "            return (i//10+1)\n",
    "    return 51\n",
    "\n",
    "def rsc_playlist(ho_tracks, recommendations):\n",
    "    \n",
    "    return rsc(np.in1d(recomendations, df_example_playlist_ho[\"tid\"]))"
   ]
  },
  {
   "cell_type": "code",
   "execution_count": 17,
   "metadata": {},
   "outputs": [
    {
     "data": {
      "text/plain": [
       "1"
      ]
     },
     "execution_count": 17,
     "metadata": {},
     "output_type": "execute_result"
    }
   ],
   "source": [
    "rsc_playlist(df_example_playlist_ho[\"tid\"], recomendations)"
   ]
  },
  {
   "cell_type": "code",
   "execution_count": 18,
   "metadata": {},
   "outputs": [],
   "source": [
    "# exemplo em que a primeira sugestão relevante aparece na 4 página\n",
    "recs = [0]*36 + [1] + [0]*463"
   ]
  },
  {
   "cell_type": "code",
   "execution_count": 19,
   "metadata": {},
   "outputs": [
    {
     "data": {
      "text/plain": [
       "4"
      ]
     },
     "execution_count": 19,
     "metadata": {},
     "output_type": "execute_result"
    }
   ],
   "source": [
    "rsc(recs)"
   ]
  },
  {
   "cell_type": "markdown",
   "metadata": {},
   "source": [
    "<hr>"
   ]
  }
 ],
 "metadata": {
  "kernelspec": {
   "display_name": "Python [spotify]",
   "language": "python",
   "name": "spotify"
  },
  "language_info": {
   "codemirror_mode": {
    "name": "ipython",
    "version": 3
   },
   "file_extension": ".py",
   "mimetype": "text/x-python",
   "name": "python",
   "nbconvert_exporter": "python",
   "pygments_lexer": "ipython3",
   "version": "3.6.6"
  }
 },
 "nbformat": 4,
 "nbformat_minor": 2
}
