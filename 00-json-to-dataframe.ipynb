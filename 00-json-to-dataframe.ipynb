{
 "cells": [
  {
   "cell_type": "markdown",
   "metadata": {},
   "source": [
    "# Data Transformation\n",
    "\n",
    "Neste primeiro notebook, vamos inspecionar os dados disponibilizados pelo Spotify por meio do [Recsys Challenge 2018](https://recsys-challenge.spotify.com/) e transformá-los de sua estrutura atual em arquivos json para uma estrutura tabular pronta para processamentos seguintes.\n",
    "\n",
    "@author: [Pedro Correia](https://github.com/pfcor)\n"
   ]
  },
  {
   "cell_type": "code",
   "execution_count": 1,
   "metadata": {},
   "outputs": [],
   "source": [
    "import json\n",
    "import os\n",
    "import codecs\n",
    "import datetime as dt\n",
    "import pandas as pd\n",
    "import tqdm\n",
    "import mpd"
   ]
  },
  {
   "cell_type": "markdown",
   "metadata": {},
   "source": [
    "Para iniciar as investigações, vamos observar o conteúdo (limpo e organizado) de uma playlist aleatória:"
   ]
  },
  {
   "cell_type": "code",
   "execution_count": 2,
   "metadata": {
    "scrolled": false
   },
   "outputs": [
    {
     "name": "stdout",
     "output_type": "stream",
     "text": [
      "=== 433 ===\n",
      "Sad songs\n",
      "  followers      1    \n",
      "  modified       2017-04-16\n",
      "  edits          9    \n",
      "  collaborative  false\n",
      "  num_artists    21   \n",
      "  num_tracks     29   \n",
      "  duration min   124.08\n",
      "\n",
      "  # | track                          | album                                    | artist              \n",
      "----------------------------------------------------------------------------------------------------\n",
      "  0 | We Belong                      | Tropico                                  | Pat Benatar         \n",
      "  1 | Please Forgive Me              | Australian Tour Edition 2013             | Bryan Adams         \n",
      "  2 | Climax                         | Looking 4 Myself                         | Usher               \n",
      "  3 | Battle Scars                   | Food & Liquor II: The Great American Ra  | Lupe Fiasco         \n",
      "  4 | human                          | head or heart                            | Christina Perri     \n",
      "  5 | Landslide                      | Fleetwood Mac                            | Fleetwood Mac       \n",
      "  6 | Explosions                     | Halcyon                                  | Ellie Goulding      \n",
      "  7 | I Want To Know What Love Is -  | Best Of Live                             | Foreigner           \n",
      "  8 | Not In That Way                | In The Lonely Hour                       | Sam Smith           \n",
      "  9 | I've Told You Now              | In The Lonely Hour                       | Sam Smith           \n",
      " 10 | Skyscraper                     | Unbroken                                 | Demi Lovato         \n",
      " 11 | Like I Can                     | In The Lonely Hour                       | Sam Smith           \n",
      " 12 | Oceans (Where Feet May Fail)   | Zion                                     | Hillsong United     \n",
      " 13 | Wanted                         | Hunter Hayes (Encore)                    | Hunter Hayes        \n",
      " 14 | Worn                           | The Struggle                             | Tenth Avenue North  \n",
      " 15 | Words I Never Said (feat. Sky  | Lasers                                   | Lupe Fiasco         \n",
      " 16 | Jar of Hearts                  | lovestrong.                              | Christina Perri     \n",
      " 17 | The Struggle                   | The Struggle                             | Tenth Avenue North  \n",
      " 18 | Let Her Go                     | All The Little Lights                    | Passenger           \n",
      " 19 | i hate u, i love u (feat. oli  | us                                       | gnash               \n",
      " 20 | You Are More                   | The Light Meets The Dark                 | Tenth Avenue North  \n",
      " 21 | I Can Only Imagine             | Almost There                             | MercyMe             \n",
      " 22 | Lay Me Down                    | In The Lonely Hour                       | Sam Smith           \n",
      " 23 | Say Something                  | Is There Anybody Out There? - Track by   | A Great Big World   \n",
      " 24 | Alone                          | Bad Animals                              | Heart               \n",
      " 25 | Total Eclipse of the Heart     | Faster Than The Speed Of Night           | Bonnie Tyler        \n",
      " 26 | What Happened To Perfect       | Lukas Graham (Blue Album)                | Lukas Graham        \n",
      " 27 | I Won't Give Up                | Love Is A Four Letter Word               | Jason Mraz          \n",
      " 28 | Stone Cold                     | Confident                                | Demi Lovato         \n",
      "\n"
     ]
    }
   ],
   "source": [
    "mpd.show_playlist(433)"
   ]
  },
  {
   "cell_type": "markdown",
   "metadata": {},
   "source": [
    "Está presente na playlist acima todas as informações de fato disponíveis no dataset. Associada a cada uma das 1000000 de playlists temos o seu título, a quantidade de seguidores, a data de última edição e a quantidade de edições, se a playlist é colaborativa ou não, além das quantidades de artistas, faixas e de minutos de duração."
   ]
  },
  {
   "cell_type": "markdown",
   "metadata": {},
   "source": [
    "<hr>"
   ]
  },
  {
   "cell_type": "markdown",
   "metadata": {},
   "source": [
    "O próximo passo é organizar essas informações em formato tabular, para utilização na sequência do trabalho."
   ]
  },
  {
   "cell_type": "code",
   "execution_count": 5,
   "metadata": {},
   "outputs": [],
   "source": [
    "def tabulate_playlist_data(input_path, output_path):\n",
    "    \n",
    "    playlist_features = [\n",
    "        'pid',\n",
    "        'name',\n",
    "        'collaborative',  \n",
    "        'modified_at', \n",
    "        'duration_ms',\n",
    "        'num_tracks',\n",
    "        'num_albums', \n",
    "        'num_artists',\n",
    "        'num_followers',\n",
    "        'num_edits'\n",
    "    ]\n",
    "    \n",
    "    track_features = [\n",
    "        'track_uri',\n",
    "        'track_name',\n",
    "        'album_uri',\n",
    "        'album_name',\n",
    "        'artist_uri',\n",
    "        'artist_name',\n",
    "        'duration_ms'\n",
    "    ]\n",
    "\n",
    "    slice_files = [\n",
    "        os.sep.join((input_path, slice_file)) \n",
    "        for slice_file in \n",
    "        sorted(os.listdir(f'{input_path}'))\n",
    "        if slice_file.startswith('mpd.slice')\n",
    "    ]\n",
    "    \n",
    "    tracks = set() # accumulator for all tracks that appear\n",
    "    \n",
    "    for i, slice_file in tqdm.tqdm_notebook(enumerate(slice_files), total=len(slice_files), desc=\"Data Files\"):\n",
    "        \n",
    "        # setting up accumulators\n",
    "        playlist_metadata = [] # aggregating info about the playlist (name, num edits, num artists, duration...)\n",
    "        track_metadata    = [] # aggregating info about the track (title, album, artist...)\n",
    "        playlist_track    = [] # to-from playlist/track. also registering position of the track on the playlist here\n",
    "        \n",
    "        # reading file with playlists dataii\n",
    "        with codecs.open(slice_file, 'r', 'utf-8') as f:\n",
    "            playlists = json.loads(f.read())['playlists']\n",
    "        \n",
    "        # processing each playlist into tabular data\n",
    "        for playlist in playlists:\n",
    "            \n",
    "            # appending lists with each of the relevant fields\n",
    "            playlist_metadata.append([playlist[feat] for feat in playlist_features])\n",
    "            \n",
    "            # processing the tracks array of the current playlist\n",
    "            for track in playlist['tracks']:\n",
    "                \n",
    "                # adding the connection of each playlist with each track\n",
    "                playlist_track.append([playlist['pid'], track['track_uri'], track['pos']])\n",
    "                \n",
    "                # building a database of all tracks we see\n",
    "                if track['track_uri'] not in tracks:\n",
    "                    \n",
    "                    # appending the info listed above\n",
    "                    track_metadata.append([track[feat] for feat in track_features])\n",
    "                    \n",
    "                    # keeping record of all tracks already seen\n",
    "                    tracks.add(track['track_uri'])\n",
    "        \n",
    "        # playlist metadata\n",
    "        playlists_df = pd.DataFrame(playlist_metadata, columns=playlist_features)\n",
    "        playlists_df['collaborative'] = playlists_df['collaborative'].map({'false': 0, 'true': 1})\n",
    "        playlists_df.to_csv(os.sep.join((output_path, \"playlists.csv\")), index=False, header=(i==0), mode=\"w\" if (i==0) else \"a\")\n",
    "        \n",
    "        # track data\n",
    "        tracks_df = pd.DataFrame(track_metadata, columns=track_features)\n",
    "        tracks_df.to_csv(os.sep.join((output_path, \"tracks.csv\")), index=False, header=(i==0), mode=\"w\" if (i==0) else \"a\")\n",
    "        \n",
    "        # playlist-track\n",
    "        playlist_track_df = pd.DataFrame(playlist_track, columns=['pid', 'track_uri', 'pos'])\n",
    "        playlist_track_df.to_csv(os.sep.join((output_path, \"playlist_track.csv\")), index=False, header=(i==0), mode=\"w\" if (i==0) else \"a\")\n"
   ]
  },
  {
   "cell_type": "code",
   "execution_count": 6,
   "metadata": {},
   "outputs": [
    {
     "data": {
      "application/vnd.jupyter.widget-view+json": {
       "model_id": "54b6a65e41d9426aa27c0b3acfa0e961",
       "version_major": 2,
       "version_minor": 0
      },
      "text/plain": [
       "HBox(children=(IntProgress(value=0, description='Data Files', max=1000, style=ProgressStyle(description_width=…"
      ]
     },
     "metadata": {},
     "output_type": "display_data"
    },
    {
     "name": "stdout",
     "output_type": "stream",
     "text": [
      "\n"
     ]
    }
   ],
   "source": [
    "# calling the function to create the tabular files\n",
    "input_path  = \"data/original\"\n",
    "output_path = \"data/formatted\"\n",
    "\n",
    "tabulate_playlist_data(input_path, output_path)"
   ]
  },
  {
   "cell_type": "markdown",
   "metadata": {},
   "source": [
    "Vamos agora brevemente inspecionar os arquivos que acabamos de criar:"
   ]
  },
  {
   "cell_type": "markdown",
   "metadata": {},
   "source": [
    "> playlists"
   ]
  },
  {
   "cell_type": "code",
   "execution_count": 3,
   "metadata": {},
   "outputs": [],
   "source": [
    "df_playlists = pd.read_csv(\"data/formatted/playlists.csv\")"
   ]
  },
  {
   "cell_type": "code",
   "execution_count": 4,
   "metadata": {},
   "outputs": [
    {
     "data": {
      "text/plain": [
       "(1000000, 10)"
      ]
     },
     "execution_count": 4,
     "metadata": {},
     "output_type": "execute_result"
    }
   ],
   "source": [
    "df_playlists.shape"
   ]
  },
  {
   "cell_type": "markdown",
   "metadata": {},
   "source": [
    "Como esperado, são um milhão de playlists"
   ]
  },
  {
   "cell_type": "code",
   "execution_count": 5,
   "metadata": {},
   "outputs": [
    {
     "data": {
      "text/html": [
       "<div>\n",
       "<style scoped>\n",
       "    .dataframe tbody tr th:only-of-type {\n",
       "        vertical-align: middle;\n",
       "    }\n",
       "\n",
       "    .dataframe tbody tr th {\n",
       "        vertical-align: top;\n",
       "    }\n",
       "\n",
       "    .dataframe thead th {\n",
       "        text-align: right;\n",
       "    }\n",
       "</style>\n",
       "<table border=\"1\" class=\"dataframe\">\n",
       "  <thead>\n",
       "    <tr style=\"text-align: right;\">\n",
       "      <th></th>\n",
       "      <th>pid</th>\n",
       "      <th>name</th>\n",
       "      <th>collaborative</th>\n",
       "      <th>modified_at</th>\n",
       "      <th>duration_ms</th>\n",
       "      <th>num_tracks</th>\n",
       "      <th>num_albums</th>\n",
       "      <th>num_artists</th>\n",
       "      <th>num_followers</th>\n",
       "      <th>num_edits</th>\n",
       "    </tr>\n",
       "  </thead>\n",
       "  <tbody>\n",
       "    <tr>\n",
       "      <th>0</th>\n",
       "      <td>0</td>\n",
       "      <td>Throwbacks</td>\n",
       "      <td>0</td>\n",
       "      <td>1493424000</td>\n",
       "      <td>11532414</td>\n",
       "      <td>52</td>\n",
       "      <td>47</td>\n",
       "      <td>37</td>\n",
       "      <td>1</td>\n",
       "      <td>6</td>\n",
       "    </tr>\n",
       "    <tr>\n",
       "      <th>1</th>\n",
       "      <td>1</td>\n",
       "      <td>Awesome Playlist</td>\n",
       "      <td>0</td>\n",
       "      <td>1506556800</td>\n",
       "      <td>11656470</td>\n",
       "      <td>39</td>\n",
       "      <td>23</td>\n",
       "      <td>21</td>\n",
       "      <td>1</td>\n",
       "      <td>5</td>\n",
       "    </tr>\n",
       "    <tr>\n",
       "      <th>2</th>\n",
       "      <td>2</td>\n",
       "      <td>korean</td>\n",
       "      <td>0</td>\n",
       "      <td>1505692800</td>\n",
       "      <td>14039958</td>\n",
       "      <td>64</td>\n",
       "      <td>51</td>\n",
       "      <td>31</td>\n",
       "      <td>1</td>\n",
       "      <td>18</td>\n",
       "    </tr>\n",
       "    <tr>\n",
       "      <th>3</th>\n",
       "      <td>3</td>\n",
       "      <td>mat</td>\n",
       "      <td>0</td>\n",
       "      <td>1501027200</td>\n",
       "      <td>28926058</td>\n",
       "      <td>126</td>\n",
       "      <td>107</td>\n",
       "      <td>86</td>\n",
       "      <td>1</td>\n",
       "      <td>4</td>\n",
       "    </tr>\n",
       "    <tr>\n",
       "      <th>4</th>\n",
       "      <td>4</td>\n",
       "      <td>90s</td>\n",
       "      <td>0</td>\n",
       "      <td>1401667200</td>\n",
       "      <td>4335282</td>\n",
       "      <td>17</td>\n",
       "      <td>16</td>\n",
       "      <td>16</td>\n",
       "      <td>2</td>\n",
       "      <td>7</td>\n",
       "    </tr>\n",
       "  </tbody>\n",
       "</table>\n",
       "</div>"
      ],
      "text/plain": [
       "   pid              name  collaborative  modified_at  duration_ms  num_tracks  \\\n",
       "0    0        Throwbacks              0   1493424000     11532414          52   \n",
       "1    1  Awesome Playlist              0   1506556800     11656470          39   \n",
       "2    2           korean               0   1505692800     14039958          64   \n",
       "3    3               mat              0   1501027200     28926058         126   \n",
       "4    4               90s              0   1401667200      4335282          17   \n",
       "\n",
       "   num_albums  num_artists  num_followers  num_edits  \n",
       "0          47           37              1          6  \n",
       "1          23           21              1          5  \n",
       "2          51           31              1         18  \n",
       "3         107           86              1          4  \n",
       "4          16           16              2          7  "
      ]
     },
     "execution_count": 5,
     "metadata": {},
     "output_type": "execute_result"
    }
   ],
   "source": [
    "df_playlists.head()"
   ]
  },
  {
   "cell_type": "markdown",
   "metadata": {},
   "source": [
    "As informações estão registradas conforme esperado. Talvez caiba na sequência transformar os dados de `modified_at`e `duration_ms` em formatos de mais fácil entendimento, mas para o momento nossos objetivos foram alcançados."
   ]
  },
  {
   "cell_type": "code",
   "execution_count": 6,
   "metadata": {},
   "outputs": [],
   "source": [
    "# limpando namespace\n",
    "del df_playlists"
   ]
  },
  {
   "cell_type": "markdown",
   "metadata": {},
   "source": [
    "> tracks\n",
    "\n",
    "aqui, vamos fazer algumas passos adicionais. vamos criar um id inteiro para as faixas e criar um dataset específico para os artistas:"
   ]
  },
  {
   "cell_type": "code",
   "execution_count": 11,
   "metadata": {},
   "outputs": [],
   "source": [
    "df_tracks = pd.read_csv(\"data/formatted/tracks.csv\")"
   ]
  },
  {
   "cell_type": "code",
   "execution_count": 44,
   "metadata": {},
   "outputs": [
    {
     "data": {
      "text/plain": [
       "(2262292, 7)"
      ]
     },
     "execution_count": 44,
     "metadata": {},
     "output_type": "execute_result"
    }
   ],
   "source": [
    "df_tracks.shape"
   ]
  },
  {
   "cell_type": "code",
   "execution_count": 45,
   "metadata": {},
   "outputs": [
    {
     "data": {
      "text/html": [
       "<div>\n",
       "<style scoped>\n",
       "    .dataframe tbody tr th:only-of-type {\n",
       "        vertical-align: middle;\n",
       "    }\n",
       "\n",
       "    .dataframe tbody tr th {\n",
       "        vertical-align: top;\n",
       "    }\n",
       "\n",
       "    .dataframe thead th {\n",
       "        text-align: right;\n",
       "    }\n",
       "</style>\n",
       "<table border=\"1\" class=\"dataframe\">\n",
       "  <thead>\n",
       "    <tr style=\"text-align: right;\">\n",
       "      <th></th>\n",
       "      <th>0</th>\n",
       "      <th>1</th>\n",
       "      <th>2</th>\n",
       "    </tr>\n",
       "  </thead>\n",
       "  <tbody>\n",
       "    <tr>\n",
       "      <th>track_uri</th>\n",
       "      <td>spotify:track:0UaMYEvWZi0ZqiDOoHU3YI</td>\n",
       "      <td>spotify:track:6I9VzXrHxO9rA9A5euc8Ak</td>\n",
       "      <td>spotify:track:0WqIKmW4BTrj3eJFmnCKMv</td>\n",
       "    </tr>\n",
       "    <tr>\n",
       "      <th>track_name</th>\n",
       "      <td>Lose Control (feat. Ciara &amp; Fat Man Scoop)</td>\n",
       "      <td>Toxic</td>\n",
       "      <td>Crazy In Love</td>\n",
       "    </tr>\n",
       "    <tr>\n",
       "      <th>album_uri</th>\n",
       "      <td>spotify:album:6vV5UrXcfyQD1wu4Qo2I9K</td>\n",
       "      <td>spotify:album:0z7pVBGOD7HCIB7S8eLkLI</td>\n",
       "      <td>spotify:album:25hVFAxTlDvXbx2X2QkUkE</td>\n",
       "    </tr>\n",
       "    <tr>\n",
       "      <th>album_name</th>\n",
       "      <td>The Cookbook</td>\n",
       "      <td>In The Zone</td>\n",
       "      <td>Dangerously In Love (Alben für die Ewigkeit)</td>\n",
       "    </tr>\n",
       "    <tr>\n",
       "      <th>artist_uri</th>\n",
       "      <td>spotify:artist:2wIVse2owClT7go1WT98tk</td>\n",
       "      <td>spotify:artist:26dSoYclwsYLMAKD3tpOr4</td>\n",
       "      <td>spotify:artist:6vWDO969PvNqNYHIOW5v0m</td>\n",
       "    </tr>\n",
       "    <tr>\n",
       "      <th>artist_name</th>\n",
       "      <td>Missy Elliott</td>\n",
       "      <td>Britney Spears</td>\n",
       "      <td>Beyoncé</td>\n",
       "    </tr>\n",
       "    <tr>\n",
       "      <th>duration_ms</th>\n",
       "      <td>226863</td>\n",
       "      <td>198800</td>\n",
       "      <td>235933</td>\n",
       "    </tr>\n",
       "  </tbody>\n",
       "</table>\n",
       "</div>"
      ],
      "text/plain": [
       "                                                      0  \\\n",
       "track_uri          spotify:track:0UaMYEvWZi0ZqiDOoHU3YI   \n",
       "track_name   Lose Control (feat. Ciara & Fat Man Scoop)   \n",
       "album_uri          spotify:album:6vV5UrXcfyQD1wu4Qo2I9K   \n",
       "album_name                                 The Cookbook   \n",
       "artist_uri        spotify:artist:2wIVse2owClT7go1WT98tk   \n",
       "artist_name                               Missy Elliott   \n",
       "duration_ms                                      226863   \n",
       "\n",
       "                                                 1  \\\n",
       "track_uri     spotify:track:6I9VzXrHxO9rA9A5euc8Ak   \n",
       "track_name                                   Toxic   \n",
       "album_uri     spotify:album:0z7pVBGOD7HCIB7S8eLkLI   \n",
       "album_name                             In The Zone   \n",
       "artist_uri   spotify:artist:26dSoYclwsYLMAKD3tpOr4   \n",
       "artist_name                         Britney Spears   \n",
       "duration_ms                                 198800   \n",
       "\n",
       "                                                        2  \n",
       "track_uri            spotify:track:0WqIKmW4BTrj3eJFmnCKMv  \n",
       "track_name                                  Crazy In Love  \n",
       "album_uri            spotify:album:25hVFAxTlDvXbx2X2QkUkE  \n",
       "album_name   Dangerously In Love (Alben für die Ewigkeit)  \n",
       "artist_uri          spotify:artist:6vWDO969PvNqNYHIOW5v0m  \n",
       "artist_name                                       Beyoncé  \n",
       "duration_ms                                        235933  "
      ]
     },
     "execution_count": 45,
     "metadata": {},
     "output_type": "execute_result"
    }
   ],
   "source": [
    "df_tracks.head(3).T"
   ]
  },
  {
   "cell_type": "code",
   "execution_count": 46,
   "metadata": {},
   "outputs": [
    {
     "data": {
      "text/html": [
       "<div>\n",
       "<style scoped>\n",
       "    .dataframe tbody tr th:only-of-type {\n",
       "        vertical-align: middle;\n",
       "    }\n",
       "\n",
       "    .dataframe tbody tr th {\n",
       "        vertical-align: top;\n",
       "    }\n",
       "\n",
       "    .dataframe thead th {\n",
       "        text-align: right;\n",
       "    }\n",
       "</style>\n",
       "<table border=\"1\" class=\"dataframe\">\n",
       "  <thead>\n",
       "    <tr style=\"text-align: right;\">\n",
       "      <th></th>\n",
       "      <th>aid</th>\n",
       "      <th>artist_uri</th>\n",
       "      <th>artist_name</th>\n",
       "    </tr>\n",
       "  </thead>\n",
       "  <tbody>\n",
       "    <tr>\n",
       "      <th>0</th>\n",
       "      <td>0</td>\n",
       "      <td>spotify:artist:2wIVse2owClT7go1WT98tk</td>\n",
       "      <td>Missy Elliott</td>\n",
       "    </tr>\n",
       "    <tr>\n",
       "      <th>1</th>\n",
       "      <td>1</td>\n",
       "      <td>spotify:artist:26dSoYclwsYLMAKD3tpOr4</td>\n",
       "      <td>Britney Spears</td>\n",
       "    </tr>\n",
       "    <tr>\n",
       "      <th>2</th>\n",
       "      <td>2</td>\n",
       "      <td>spotify:artist:6vWDO969PvNqNYHIOW5v0m</td>\n",
       "      <td>Beyoncé</td>\n",
       "    </tr>\n",
       "    <tr>\n",
       "      <th>3</th>\n",
       "      <td>3</td>\n",
       "      <td>spotify:artist:31TPClRtHm23RisEBtV3X7</td>\n",
       "      <td>Justin Timberlake</td>\n",
       "    </tr>\n",
       "    <tr>\n",
       "      <th>4</th>\n",
       "      <td>4</td>\n",
       "      <td>spotify:artist:5EvFsr3kj42KNv97ZEnqij</td>\n",
       "      <td>Shaggy</td>\n",
       "    </tr>\n",
       "  </tbody>\n",
       "</table>\n",
       "</div>"
      ],
      "text/plain": [
       "   aid                             artist_uri        artist_name\n",
       "0    0  spotify:artist:2wIVse2owClT7go1WT98tk      Missy Elliott\n",
       "1    1  spotify:artist:26dSoYclwsYLMAKD3tpOr4     Britney Spears\n",
       "2    2  spotify:artist:6vWDO969PvNqNYHIOW5v0m            Beyoncé\n",
       "3    3  spotify:artist:31TPClRtHm23RisEBtV3X7  Justin Timberlake\n",
       "4    4  spotify:artist:5EvFsr3kj42KNv97ZEnqij             Shaggy"
      ]
     },
     "execution_count": 46,
     "metadata": {},
     "output_type": "execute_result"
    }
   ],
   "source": [
    "# criando dataset de artistas\n",
    "df_artists = df_tracks.drop_duplicates(\"artist_uri\", keep=\"first\")[[\"artist_uri\", \"artist_name\"]]\n",
    "df_artists = df_artists.reset_index().rename(columns={\"index\": \"aid\"})\n",
    "df_artists.head()"
   ]
  },
  {
   "cell_type": "code",
   "execution_count": 47,
   "metadata": {},
   "outputs": [],
   "source": [
    "df_artists.to_csv(\"data/formatted/artists.csv\", index=False)"
   ]
  },
  {
   "cell_type": "code",
   "execution_count": 48,
   "metadata": {},
   "outputs": [],
   "source": [
    "df_tracks = df_tracks.reset_index().rename(columns={\"index\": \"tid\"})\n",
    "df_tracks = df_tracks.merge(df_artists[[\"aid\", \"artist_uri\"]], on=\"artist_uri\", how=\"left\")"
   ]
  },
  {
   "cell_type": "code",
   "execution_count": 49,
   "metadata": {},
   "outputs": [
    {
     "data": {
      "text/html": [
       "<div>\n",
       "<style scoped>\n",
       "    .dataframe tbody tr th:only-of-type {\n",
       "        vertical-align: middle;\n",
       "    }\n",
       "\n",
       "    .dataframe tbody tr th {\n",
       "        vertical-align: top;\n",
       "    }\n",
       "\n",
       "    .dataframe thead th {\n",
       "        text-align: right;\n",
       "    }\n",
       "</style>\n",
       "<table border=\"1\" class=\"dataframe\">\n",
       "  <thead>\n",
       "    <tr style=\"text-align: right;\">\n",
       "      <th></th>\n",
       "      <th>1786646</th>\n",
       "      <th>1038562</th>\n",
       "      <th>1304019</th>\n",
       "    </tr>\n",
       "  </thead>\n",
       "  <tbody>\n",
       "    <tr>\n",
       "      <th>tid</th>\n",
       "      <td>1786646</td>\n",
       "      <td>1038562</td>\n",
       "      <td>1304019</td>\n",
       "    </tr>\n",
       "    <tr>\n",
       "      <th>track_uri</th>\n",
       "      <td>spotify:track:11ggz1zoh6J3g0fOnKHR1X</td>\n",
       "      <td>spotify:track:7gkI2b0MHzhvkSzuIch1Hj</td>\n",
       "      <td>spotify:track:0Ceo5IPMAG4YtVrxCKJc6r</td>\n",
       "    </tr>\n",
       "    <tr>\n",
       "      <th>track_name</th>\n",
       "      <td>One Chapter in the Book</td>\n",
       "      <td>Heaven</td>\n",
       "      <td>Espérame en el Cielo</td>\n",
       "    </tr>\n",
       "    <tr>\n",
       "      <th>album_uri</th>\n",
       "      <td>spotify:album:7umVRtgBbdU9Zj1K8a1o53</td>\n",
       "      <td>spotify:album:2TAlebSs2UfR5RJCknBezx</td>\n",
       "      <td>spotify:album:45CtwGkSFfWpBD9vK9JepV</td>\n",
       "    </tr>\n",
       "    <tr>\n",
       "      <th>album_name</th>\n",
       "      <td>What Makes a Man Start Fires?</td>\n",
       "      <td>Apocalypse, Girl</td>\n",
       "      <td>La Sonora Radio Latina No. 2</td>\n",
       "    </tr>\n",
       "    <tr>\n",
       "      <th>artist_uri</th>\n",
       "      <td>spotify:artist:0z6zRFzl5njXWLVAisXQBz</td>\n",
       "      <td>spotify:artist:5eerVxtb9lY9p6D7m89Bs7</td>\n",
       "      <td>spotify:artist:6UtlGHaYcTwfQgBKqLaL0P</td>\n",
       "    </tr>\n",
       "    <tr>\n",
       "      <th>artist_name</th>\n",
       "      <td>Minutemen</td>\n",
       "      <td>Jenny Hval</td>\n",
       "      <td>Joe Valle Y Su Orquesta</td>\n",
       "    </tr>\n",
       "    <tr>\n",
       "      <th>duration_ms</th>\n",
       "      <td>62573</td>\n",
       "      <td>293243</td>\n",
       "      <td>185215</td>\n",
       "    </tr>\n",
       "    <tr>\n",
       "      <th>aid</th>\n",
       "      <td>184881</td>\n",
       "      <td>108788</td>\n",
       "      <td>1304019</td>\n",
       "    </tr>\n",
       "  </tbody>\n",
       "</table>\n",
       "</div>"
      ],
      "text/plain": [
       "                                           1786646  \\\n",
       "tid                                        1786646   \n",
       "track_uri     spotify:track:11ggz1zoh6J3g0fOnKHR1X   \n",
       "track_name                 One Chapter in the Book   \n",
       "album_uri     spotify:album:7umVRtgBbdU9Zj1K8a1o53   \n",
       "album_name           What Makes a Man Start Fires?   \n",
       "artist_uri   spotify:artist:0z6zRFzl5njXWLVAisXQBz   \n",
       "artist_name                              Minutemen   \n",
       "duration_ms                                  62573   \n",
       "aid                                         184881   \n",
       "\n",
       "                                           1038562  \\\n",
       "tid                                        1038562   \n",
       "track_uri     spotify:track:7gkI2b0MHzhvkSzuIch1Hj   \n",
       "track_name                                  Heaven   \n",
       "album_uri     spotify:album:2TAlebSs2UfR5RJCknBezx   \n",
       "album_name                        Apocalypse, Girl   \n",
       "artist_uri   spotify:artist:5eerVxtb9lY9p6D7m89Bs7   \n",
       "artist_name                             Jenny Hval   \n",
       "duration_ms                                 293243   \n",
       "aid                                         108788   \n",
       "\n",
       "                                           1304019  \n",
       "tid                                        1304019  \n",
       "track_uri     spotify:track:0Ceo5IPMAG4YtVrxCKJc6r  \n",
       "track_name                    Espérame en el Cielo  \n",
       "album_uri     spotify:album:45CtwGkSFfWpBD9vK9JepV  \n",
       "album_name            La Sonora Radio Latina No. 2  \n",
       "artist_uri   spotify:artist:6UtlGHaYcTwfQgBKqLaL0P  \n",
       "artist_name                Joe Valle Y Su Orquesta  \n",
       "duration_ms                                 185215  \n",
       "aid                                        1304019  "
      ]
     },
     "execution_count": 49,
     "metadata": {},
     "output_type": "execute_result"
    }
   ],
   "source": [
    "df_tracks.sample(3).T"
   ]
  },
  {
   "cell_type": "code",
   "execution_count": 50,
   "metadata": {},
   "outputs": [
    {
     "data": {
      "text/html": [
       "<div>\n",
       "<style scoped>\n",
       "    .dataframe tbody tr th:only-of-type {\n",
       "        vertical-align: middle;\n",
       "    }\n",
       "\n",
       "    .dataframe tbody tr th {\n",
       "        vertical-align: top;\n",
       "    }\n",
       "\n",
       "    .dataframe thead th {\n",
       "        text-align: right;\n",
       "    }\n",
       "</style>\n",
       "<table border=\"1\" class=\"dataframe\">\n",
       "  <thead>\n",
       "    <tr style=\"text-align: right;\">\n",
       "      <th></th>\n",
       "      <th>aid</th>\n",
       "      <th>artist_uri</th>\n",
       "      <th>artist_name</th>\n",
       "    </tr>\n",
       "  </thead>\n",
       "  <tbody>\n",
       "    <tr>\n",
       "      <th>24900</th>\n",
       "      <td>108788</td>\n",
       "      <td>spotify:artist:5eerVxtb9lY9p6D7m89Bs7</td>\n",
       "      <td>Jenny Hval</td>\n",
       "    </tr>\n",
       "  </tbody>\n",
       "</table>\n",
       "</div>"
      ],
      "text/plain": [
       "          aid                             artist_uri artist_name\n",
       "24900  108788  spotify:artist:5eerVxtb9lY9p6D7m89Bs7  Jenny Hval"
      ]
     },
     "execution_count": 50,
     "metadata": {},
     "output_type": "execute_result"
    }
   ],
   "source": [
    "df_artists[df_artists[\"aid\"]==108788]"
   ]
  },
  {
   "cell_type": "code",
   "execution_count": 51,
   "metadata": {},
   "outputs": [],
   "source": [
    "df_tracks.to_csv(\"data/formatted/tracks.csv\", index=False)"
   ]
  },
  {
   "cell_type": "code",
   "execution_count": 52,
   "metadata": {},
   "outputs": [],
   "source": [
    "# limpando namespace\n",
    "del df_tracks"
   ]
  },
  {
   "cell_type": "markdown",
   "metadata": {},
   "source": [
    "> playlist-track"
   ]
  },
  {
   "cell_type": "code",
   "execution_count": 4,
   "metadata": {},
   "outputs": [],
   "source": [
    "df_pt = pd.read_csv(\"data/formatted/playlist_track.csv\")"
   ]
  },
  {
   "cell_type": "code",
   "execution_count": 5,
   "metadata": {},
   "outputs": [
    {
     "data": {
      "text/plain": [
       "(66346428, 3)"
      ]
     },
     "execution_count": 5,
     "metadata": {},
     "output_type": "execute_result"
    }
   ],
   "source": [
    "df_pt.shape"
   ]
  },
  {
   "cell_type": "code",
   "execution_count": 3,
   "metadata": {},
   "outputs": [],
   "source": [
    "df_tracks = df_tracks[[\"track_uri\", \"tid\", \"aid\"]]"
   ]
  },
  {
   "cell_type": "code",
   "execution_count": 6,
   "metadata": {},
   "outputs": [],
   "source": [
    "df_pt = df_pt.merge(df_tracks[[\"track_uri\", \"tid\", \"aid\"]], on=\"track_uri\", how=\"left\").drop(\"track_uri\", axis=1)[[\"pid\", \"tid\", \"aid\", \"pos\"]]"
   ]
  },
  {
   "cell_type": "code",
   "execution_count": 8,
   "metadata": {},
   "outputs": [
    {
     "data": {
      "text/html": [
       "<div>\n",
       "<style scoped>\n",
       "    .dataframe tbody tr th:only-of-type {\n",
       "        vertical-align: middle;\n",
       "    }\n",
       "\n",
       "    .dataframe tbody tr th {\n",
       "        vertical-align: top;\n",
       "    }\n",
       "\n",
       "    .dataframe thead th {\n",
       "        text-align: right;\n",
       "    }\n",
       "</style>\n",
       "<table border=\"1\" class=\"dataframe\">\n",
       "  <thead>\n",
       "    <tr style=\"text-align: right;\">\n",
       "      <th></th>\n",
       "      <th>pid</th>\n",
       "      <th>tid</th>\n",
       "      <th>aid</th>\n",
       "      <th>pos</th>\n",
       "    </tr>\n",
       "  </thead>\n",
       "  <tbody>\n",
       "    <tr>\n",
       "      <th>17997348</th>\n",
       "      <td>342072</td>\n",
       "      <td>205360</td>\n",
       "      <td>2664</td>\n",
       "      <td>147</td>\n",
       "    </tr>\n",
       "    <tr>\n",
       "      <th>46564752</th>\n",
       "      <td>730807</td>\n",
       "      <td>12804</td>\n",
       "      <td>12804</td>\n",
       "      <td>45</td>\n",
       "    </tr>\n",
       "    <tr>\n",
       "      <th>44141990</th>\n",
       "      <td>699347</td>\n",
       "      <td>8861</td>\n",
       "      <td>327</td>\n",
       "      <td>126</td>\n",
       "    </tr>\n",
       "    <tr>\n",
       "      <th>47720195</th>\n",
       "      <td>747001</td>\n",
       "      <td>12905</td>\n",
       "      <td>29</td>\n",
       "      <td>27</td>\n",
       "    </tr>\n",
       "    <tr>\n",
       "      <th>435497</th>\n",
       "      <td>103531</td>\n",
       "      <td>60523</td>\n",
       "      <td>510</td>\n",
       "      <td>88</td>\n",
       "    </tr>\n",
       "  </tbody>\n",
       "</table>\n",
       "</div>"
      ],
      "text/plain": [
       "             pid     tid    aid  pos\n",
       "17997348  342072  205360   2664  147\n",
       "46564752  730807   12804  12804   45\n",
       "44141990  699347    8861    327  126\n",
       "47720195  747001   12905     29   27\n",
       "435497    103531   60523    510   88"
      ]
     },
     "execution_count": 8,
     "metadata": {},
     "output_type": "execute_result"
    }
   ],
   "source": [
    "df_pt.sample(5)"
   ]
  },
  {
   "cell_type": "code",
   "execution_count": 9,
   "metadata": {},
   "outputs": [],
   "source": [
    "df_pt.to_csv(\"data/formatted/playlist_track.csv\", index=False)"
   ]
  },
  {
   "cell_type": "code",
   "execution_count": 12,
   "metadata": {},
   "outputs": [
    {
     "data": {
      "text/html": [
       "<div>\n",
       "<style scoped>\n",
       "    .dataframe tbody tr th:only-of-type {\n",
       "        vertical-align: middle;\n",
       "    }\n",
       "\n",
       "    .dataframe tbody tr th {\n",
       "        vertical-align: top;\n",
       "    }\n",
       "\n",
       "    .dataframe thead th {\n",
       "        text-align: right;\n",
       "    }\n",
       "</style>\n",
       "<table border=\"1\" class=\"dataframe\">\n",
       "  <thead>\n",
       "    <tr style=\"text-align: right;\">\n",
       "      <th></th>\n",
       "      <th>tid</th>\n",
       "      <th>track_name</th>\n",
       "      <th>artist_name</th>\n",
       "      <th>total</th>\n",
       "    </tr>\n",
       "  </thead>\n",
       "  <tbody>\n",
       "    <tr>\n",
       "      <th>4</th>\n",
       "      <td>1335</td>\n",
       "      <td>HUMBLE.</td>\n",
       "      <td>Kendrick Lamar</td>\n",
       "      <td>46574</td>\n",
       "    </tr>\n",
       "    <tr>\n",
       "      <th>16</th>\n",
       "      <td>3713</td>\n",
       "      <td>One Dance</td>\n",
       "      <td>Drake</td>\n",
       "      <td>43447</td>\n",
       "    </tr>\n",
       "    <tr>\n",
       "      <th>6</th>\n",
       "      <td>1396</td>\n",
       "      <td>Broccoli (feat. Lil Yachty)</td>\n",
       "      <td>DRAM</td>\n",
       "      <td>41309</td>\n",
       "    </tr>\n",
       "    <tr>\n",
       "      <th>8</th>\n",
       "      <td>1874</td>\n",
       "      <td>Closer</td>\n",
       "      <td>The Chainsmokers</td>\n",
       "      <td>41079</td>\n",
       "    </tr>\n",
       "    <tr>\n",
       "      <th>14</th>\n",
       "      <td>2715</td>\n",
       "      <td>Congratulations</td>\n",
       "      <td>Post Malone</td>\n",
       "      <td>39987</td>\n",
       "    </tr>\n",
       "    <tr>\n",
       "      <th>13</th>\n",
       "      <td>2701</td>\n",
       "      <td>Caroline</td>\n",
       "      <td>Aminé</td>\n",
       "      <td>35202</td>\n",
       "    </tr>\n",
       "    <tr>\n",
       "      <th>3</th>\n",
       "      <td>1333</td>\n",
       "      <td>iSpy (feat. Lil Yachty)</td>\n",
       "      <td>KYLE</td>\n",
       "      <td>35138</td>\n",
       "    </tr>\n",
       "    <tr>\n",
       "      <th>11</th>\n",
       "      <td>2698</td>\n",
       "      <td>Bad and Boujee (feat. Lil Uzi Vert)</td>\n",
       "      <td>Migos</td>\n",
       "      <td>34999</td>\n",
       "    </tr>\n",
       "    <tr>\n",
       "      <th>1</th>\n",
       "      <td>1159</td>\n",
       "      <td>XO TOUR Llif3</td>\n",
       "      <td>Lil Uzi Vert</td>\n",
       "      <td>34922</td>\n",
       "    </tr>\n",
       "    <tr>\n",
       "      <th>15</th>\n",
       "      <td>3545</td>\n",
       "      <td>Location</td>\n",
       "      <td>Khalid</td>\n",
       "      <td>34657</td>\n",
       "    </tr>\n",
       "    <tr>\n",
       "      <th>12</th>\n",
       "      <td>2700</td>\n",
       "      <td>Bounce Back</td>\n",
       "      <td>Big Sean</td>\n",
       "      <td>33699</td>\n",
       "    </tr>\n",
       "    <tr>\n",
       "      <th>10</th>\n",
       "      <td>1980</td>\n",
       "      <td>Ignition - Remix</td>\n",
       "      <td>R. Kelly</td>\n",
       "      <td>32391</td>\n",
       "    </tr>\n",
       "    <tr>\n",
       "      <th>17</th>\n",
       "      <td>4214</td>\n",
       "      <td>No Role Modelz</td>\n",
       "      <td>J. Cole</td>\n",
       "      <td>32336</td>\n",
       "    </tr>\n",
       "    <tr>\n",
       "      <th>5</th>\n",
       "      <td>1337</td>\n",
       "      <td>Mask Off</td>\n",
       "      <td>Future</td>\n",
       "      <td>32059</td>\n",
       "    </tr>\n",
       "    <tr>\n",
       "      <th>19</th>\n",
       "      <td>4772</td>\n",
       "      <td>No Problem (feat. Lil Wayne &amp; 2 Chainz)</td>\n",
       "      <td>Chance The Rapper</td>\n",
       "      <td>31492</td>\n",
       "    </tr>\n",
       "    <tr>\n",
       "      <th>7</th>\n",
       "      <td>1409</td>\n",
       "      <td>I'm the One</td>\n",
       "      <td>DJ Khaled</td>\n",
       "      <td>31374</td>\n",
       "    </tr>\n",
       "    <tr>\n",
       "      <th>9</th>\n",
       "      <td>1925</td>\n",
       "      <td>Jumpman</td>\n",
       "      <td>Drake</td>\n",
       "      <td>31119</td>\n",
       "    </tr>\n",
       "    <tr>\n",
       "      <th>0</th>\n",
       "      <td>525</td>\n",
       "      <td>goosebumps</td>\n",
       "      <td>Travis Scott</td>\n",
       "      <td>31106</td>\n",
       "    </tr>\n",
       "    <tr>\n",
       "      <th>18</th>\n",
       "      <td>4638</td>\n",
       "      <td>Fake Love</td>\n",
       "      <td>Drake</td>\n",
       "      <td>30678</td>\n",
       "    </tr>\n",
       "    <tr>\n",
       "      <th>2</th>\n",
       "      <td>1332</td>\n",
       "      <td>Despacito - Remix</td>\n",
       "      <td>Luis Fonsi</td>\n",
       "      <td>30485</td>\n",
       "    </tr>\n",
       "  </tbody>\n",
       "</table>\n",
       "</div>"
      ],
      "text/plain": [
       "     tid                               track_name        artist_name  total\n",
       "4   1335                                  HUMBLE.     Kendrick Lamar  46574\n",
       "16  3713                                One Dance              Drake  43447\n",
       "6   1396              Broccoli (feat. Lil Yachty)               DRAM  41309\n",
       "8   1874                                   Closer   The Chainsmokers  41079\n",
       "14  2715                          Congratulations        Post Malone  39987\n",
       "13  2701                                 Caroline              Aminé  35202\n",
       "3   1333                  iSpy (feat. Lil Yachty)               KYLE  35138\n",
       "11  2698      Bad and Boujee (feat. Lil Uzi Vert)              Migos  34999\n",
       "1   1159                            XO TOUR Llif3       Lil Uzi Vert  34922\n",
       "15  3545                                 Location             Khalid  34657\n",
       "12  2700                              Bounce Back           Big Sean  33699\n",
       "10  1980                         Ignition - Remix           R. Kelly  32391\n",
       "17  4214                           No Role Modelz            J. Cole  32336\n",
       "5   1337                                 Mask Off             Future  32059\n",
       "19  4772  No Problem (feat. Lil Wayne & 2 Chainz)  Chance The Rapper  31492\n",
       "7   1409                              I'm the One          DJ Khaled  31374\n",
       "9   1925                                  Jumpman              Drake  31119\n",
       "0    525                               goosebumps       Travis Scott  31106\n",
       "18  4638                                Fake Love              Drake  30678\n",
       "2   1332                        Despacito - Remix         Luis Fonsi  30485"
      ]
     },
     "execution_count": 12,
     "metadata": {},
     "output_type": "execute_result"
    }
   ],
   "source": [
    "top_ten_tracks = df_pt[\"tid\"].value_counts().head(20).reset_index().rename(columns={\"index\": \"tid\", \"tid\": \"total\"})\n",
    "df_tracks[[\"tid\", \"track_name\", \"artist_name\"]].merge(top_ten_tracks, on=\"tid\").sort_values(\"total\", ascending=False)"
   ]
  },
  {
   "cell_type": "markdown",
   "metadata": {},
   "source": [
    "<hr>"
   ]
  }
 ],
 "metadata": {
  "kernelspec": {
   "display_name": "Python [spotify]",
   "language": "python",
   "name": "spotify"
  },
  "language_info": {
   "codemirror_mode": {
    "name": "ipython",
    "version": 3
   },
   "file_extension": ".py",
   "mimetype": "text/x-python",
   "name": "python",
   "nbconvert_exporter": "python",
   "pygments_lexer": "ipython3",
   "version": "3.6.6"
  }
 },
 "nbformat": 4,
 "nbformat_minor": 2
}
