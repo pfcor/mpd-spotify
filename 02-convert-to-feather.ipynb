{
 "cells": [
  {
   "cell_type": "markdown",
   "metadata": {},
   "source": [
    "# Convert To Feather\n",
    "\n",
    "Vamos lidar com arquivos relativamente grandes. De forma a agilizar o processo de leitura dos dados na diversas iterações do projeto, vamos converter os arquivos atualmente em csv para feather.\n",
    "\n",
    "<br><br>\n",
    "<hr>\n",
    "@author: [Pedro Correia](https://github.com/pfcor)"
   ]
  },
  {
   "cell_type": "code",
   "execution_count": 15,
   "metadata": {},
   "outputs": [],
   "source": [
    "import pandas as pd\n",
    "import feather as ft\n",
    "import os"
   ]
  },
  {
   "cell_type": "markdown",
   "metadata": {},
   "source": [
    "Para comparação, vamos primeiramente, apenas ler os arquivos csv e medir quanto tempo leva:"
   ]
  },
  {
   "cell_type": "code",
   "execution_count": 16,
   "metadata": {},
   "outputs": [
    {
     "name": "stdout",
     "output_type": "stream",
     "text": [
      "reading artists.csv...              ok\n",
      "reading playlists.csv...            ok\n",
      "reading playlist_track.csv...       ok\n",
      "reading tracks.csv...               ok\n",
      "Wall time: 47 s\n"
     ]
    }
   ],
   "source": [
    "%%time\n",
    "\n",
    "for csv_file in os.listdir(\"data/formatted/\"):\n",
    "    if not csv_file.endswith(\".csv\"):\n",
    "        continue\n",
    "    print(f\"{f'reading {csv_file}...':<35}\", end=\" \", flush=True)\n",
    "    df = pd.read_csv(os.path.join(\"data/formatted/\", csv_file))\n",
    "    print(\"ok\")"
   ]
  },
  {
   "cell_type": "markdown",
   "metadata": {},
   "source": [
    "Vamos agora convertê-los para feather e salvar o novo arquivo na mesma pasta:"
   ]
  },
  {
   "cell_type": "code",
   "execution_count": 18,
   "metadata": {},
   "outputs": [
    {
     "name": "stdout",
     "output_type": "stream",
     "text": [
      "converting artists.csv...           ok\n",
      "converting playlists.csv...         ok\n",
      "converting playlist_track.csv...    ok\n",
      "converting tracks.csv...            ok\n",
      "Wall time: 1min 17s\n"
     ]
    }
   ],
   "source": [
    "%%time\n",
    "\n",
    "for csv_file in os.listdir(\"data/formatted/\"):\n",
    "    if not csv_file.endswith(\".csv\"):\n",
    "        continue\n",
    "    print(f\"{f'converting {csv_file}...':<35}\", end=\" \", flush=True)\n",
    "    df = pd.read_csv(os.path.join(\"data/formatted/\", csv_file))\n",
    "    df.to_feather(os.path.join(\"data/formatted/\", csv_file.replace(\".csv\", \".fthr\")))\n",
    "    print(\"ok\")"
   ]
  },
  {
   "cell_type": "markdown",
   "metadata": {},
   "source": [
    "Agora, vamos apenas ler os aruivos feather para medir o ganho de tempo em relação ao csv puro."
   ]
  },
  {
   "cell_type": "code",
   "execution_count": 19,
   "metadata": {},
   "outputs": [
    {
     "name": "stdout",
     "output_type": "stream",
     "text": [
      "reading artists.fthr...             ok\n",
      "reading playlists.fthr...           ok\n",
      "reading playlist_track.fthr...      ok\n",
      "reading tracks.fthr...              ok\n",
      "Wall time: 4.52 s\n"
     ]
    }
   ],
   "source": [
    "%%time\n",
    "\n",
    "for fthr_file in os.listdir(\"data/formatted/\"):\n",
    "    if not fthr_file.endswith(\".fthr\"):\n",
    "        continue\n",
    "    print(f\"{f'reading {fthr_file}...':<35}\", end=\" \", flush=True)\n",
    "    df = ft.read_dataframe(os.path.join(\"data/formatted/\", fthr_file))\n",
    "    print(\"ok\")"
   ]
  },
  {
   "cell_type": "markdown",
   "metadata": {},
   "source": [
    "Cerca de 10x mais rápida leitura."
   ]
  },
  {
   "cell_type": "markdown",
   "metadata": {},
   "source": [
    "<hr>"
   ]
  }
 ],
 "metadata": {
  "kernelspec": {
   "display_name": "Python [spotify]",
   "language": "python",
   "name": "spotify"
  },
  "language_info": {
   "codemirror_mode": {
    "name": "ipython",
    "version": 3
   },
   "file_extension": ".py",
   "mimetype": "text/x-python",
   "name": "python",
   "nbconvert_exporter": "python",
   "pygments_lexer": "ipython3",
   "version": "3.6.6"
  }
 },
 "nbformat": 4,
 "nbformat_minor": 2
}
